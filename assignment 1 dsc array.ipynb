{
 "cells": [
  {
   "cell_type": "code",
   "execution_count": 1,
   "id": "cca286b2-7b7e-486c-9501-f380cc9e1571",
   "metadata": {
    "tags": []
   },
   "outputs": [],
   "source": [
    "# ASSIGNMENT QUESTION"
   ]
  },
  {
   "cell_type": "code",
   "execution_count": 6,
   "id": "4e6ab669-8117-4b80-a32d-f22711c45999",
   "metadata": {
    "tags": []
   },
   "outputs": [],
   "source": [
    "#QUESTION 1 "
   ]
  },
  {
   "cell_type": "code",
   "execution_count": 7,
   "id": "8614d9fd-bd3b-49b9-91d0-b66e2dd64584",
   "metadata": {
    "tags": []
   },
   "outputs": [],
   "source": [
    "#Given an array, check if it contains any duplicates or not\n",
    "#arr = [1,2,4,2,5,9]\n",
    "#output = True"
   ]
  },
  {
   "cell_type": "code",
   "execution_count": 30,
   "id": "1518630e-0963-48bd-95c9-38d8aa26aa5f",
   "metadata": {
    "tags": []
   },
   "outputs": [
    {
     "name": "stdout",
     "output_type": "stream",
     "text": [
      "True\n"
     ]
    }
   ],
   "source": [
    "def contains_duplicates(arr):\n",
    "    unique_elements = set()\n",
    "    for num in arr:\n",
    "        if num in unique_elements:\n",
    "            return True\n",
    "        unique_elements.add(num)\n",
    "    return false\n",
    "arr = [1,2,4,2,5,9]\n",
    "output = contains_duplicates(arr)\n",
    "print(output)"
   ]
  },
  {
   "cell_type": "code",
   "execution_count": null,
   "id": "84533407-1721-40bb-ad0a-cad1591dd011",
   "metadata": {},
   "outputs": [],
   "source": []
  },
  {
   "cell_type": "code",
   "execution_count": null,
   "id": "a92c420d-060d-4923-9c3e-e266a70f0d43",
   "metadata": {},
   "outputs": [],
   "source": []
  },
  {
   "cell_type": "code",
   "execution_count": 53,
   "id": "14c976bf-0d32-4646-9a50-a43f332bd11e",
   "metadata": {
    "tags": []
   },
   "outputs": [],
   "source": [
    "#Question 2"
   ]
  },
  {
   "cell_type": "code",
   "execution_count": 54,
   "id": "d27c30c6-a2d7-488d-915e-d60c00b268e9",
   "metadata": {
    "tags": []
   },
   "outputs": [],
   "source": [
    "#Given an array and an interger k, rotate the array to the right by k steps\n",
    "#arr = [1,2,3,4,5,6,7]k=3\n",
    "#output = [5,6,7,1,2,3,4]"
   ]
  },
  {
   "cell_type": "code",
   "execution_count": 32,
   "id": "41327f31-ea57-449a-ad80-c0297da75cdc",
   "metadata": {
    "tags": []
   },
   "outputs": [
    {
     "name": "stdout",
     "output_type": "stream",
     "text": [
      "[5, 6, 7, 1, 2, 3, 4]\n"
     ]
    }
   ],
   "source": [
    "def rotate_array(arr,k):\n",
    "    rotation_index = len(arr)-k\n",
    "    rotated_arr = arr[rotation_index:]+arr[:rotation_index]\n",
    "    return rotated_arr\n",
    "arr = [1,2,3,4,5,6,7]\n",
    "k = 3\n",
    "output = rotate_array(arr,k)\n",
    "print(output)\n",
    "    "
   ]
  },
  {
   "cell_type": "code",
   "execution_count": null,
   "id": "adb940e7-87a4-4b41-860d-6febf8a31923",
   "metadata": {},
   "outputs": [],
   "source": []
  },
  {
   "cell_type": "code",
   "execution_count": null,
   "id": "28407e5c-2c80-48ce-a389-fe951e31911d",
   "metadata": {},
   "outputs": [],
   "source": []
  },
  {
   "cell_type": "code",
   "execution_count": 33,
   "id": "a5cbb806-58a3-4a3d-8ab4-b7c31764a13e",
   "metadata": {
    "tags": []
   },
   "outputs": [],
   "source": [
    "#Question 3"
   ]
  },
  {
   "cell_type": "code",
   "execution_count": 55,
   "id": "704c7257-0104-4ead-8e0b-2bce3776cdfb",
   "metadata": {
    "tags": []
   },
   "outputs": [],
   "source": [
    "#Reverse the given array in place , means without using any extra data structure\n",
    "#arr = [2,4,5,7,9,12]\n",
    "#output = [12,9,7,5,4,2]"
   ]
  },
  {
   "cell_type": "code",
   "execution_count": 38,
   "id": "00212b3d-4a3b-4184-80b6-eeb1f17ec4ff",
   "metadata": {
    "tags": []
   },
   "outputs": [
    {
     "name": "stdout",
     "output_type": "stream",
     "text": [
      "[12, 9, 7, 5, 4, 2]\n"
     ]
    }
   ],
   "source": [
    "def reverse_array(arr):\n",
    "    left = 0\n",
    "    right = len(arr)-1\n",
    "    while left<right:\n",
    "        arr[left],arr[right] =arr[right],arr[left]\n",
    "        left +=1\n",
    "        right -=1\n",
    "    return arr\n",
    "arr = [2,4,5,7,9,12]\n",
    "output =reverse_array(arr)\n",
    "print(output)"
   ]
  },
  {
   "cell_type": "code",
   "execution_count": null,
   "id": "f51fcba8-77e6-4654-92af-7de85f4e2496",
   "metadata": {},
   "outputs": [],
   "source": []
  },
  {
   "cell_type": "code",
   "execution_count": null,
   "id": "7603ff54-ca12-4f8b-aa23-ab1dee76705d",
   "metadata": {},
   "outputs": [],
   "source": []
  },
  {
   "cell_type": "code",
   "execution_count": 39,
   "id": "56e981aa-e6fd-4419-93b0-e9eee146cc6d",
   "metadata": {
    "tags": []
   },
   "outputs": [],
   "source": [
    "#Question 4"
   ]
  },
  {
   "cell_type": "code",
   "execution_count": 56,
   "id": "efd3b4f5-9fce-4db1-91fe-151fecc2fa9d",
   "metadata": {
    "tags": []
   },
   "outputs": [],
   "source": [
    "#Given an array of intergers, find the maximum element in an array\n",
    "#arr = [10,5,20,8,15]\n",
    "#output =20"
   ]
  },
  {
   "cell_type": "code",
   "execution_count": 40,
   "id": "10273408-9a67-4fb5-a02e-c3c885414565",
   "metadata": {
    "tags": []
   },
   "outputs": [
    {
     "name": "stdout",
     "output_type": "stream",
     "text": [
      "20\n"
     ]
    }
   ],
   "source": [
    "arr = [10,5,20,8,15]\n",
    "max_element = max(arr)\n",
    "print(max_element)\n"
   ]
  },
  {
   "cell_type": "code",
   "execution_count": null,
   "id": "672ba3e3-4ee1-4cd9-94af-c146e4cf9858",
   "metadata": {},
   "outputs": [],
   "source": []
  },
  {
   "cell_type": "code",
   "execution_count": null,
   "id": "0504d3db-3ada-4971-b698-771d02d1f29a",
   "metadata": {},
   "outputs": [],
   "source": []
  },
  {
   "cell_type": "code",
   "execution_count": 41,
   "id": "32e8125d-1e8f-45b3-9597-250c8239b172",
   "metadata": {
    "tags": []
   },
   "outputs": [],
   "source": [
    "#Question 5"
   ]
  },
  {
   "cell_type": "code",
   "execution_count": 57,
   "id": "8d7a0185-d4bc-47cb-b7f1-1a3fa2cc21a4",
   "metadata": {
    "tags": []
   },
   "outputs": [],
   "source": [
    "# Given a sorted array, remove the duplicate element without using any extra data structure\n",
    "#arr = [1,1,2,2,2,3,3,4,4,4,5,5]\n",
    "#output = [1,2,3,4,5]"
   ]
  },
  {
   "cell_type": "code",
   "execution_count": 52,
   "id": "81aab769-236f-4d6f-9540-7339ed1b17ea",
   "metadata": {
    "tags": []
   },
   "outputs": [
    {
     "name": "stdout",
     "output_type": "stream",
     "text": [
      "[1, 2, 3, 4, 5]\n"
     ]
    }
   ],
   "source": [
    "def remove_duplicates(arr):\n",
    "    if len(arr) < 2:\n",
    "        return arr\n",
    "    current = 0\n",
    "    next_unique = 1\n",
    "    while next_unique<len(arr):\n",
    "        if arr[current]==arr[next_unique]:\n",
    "            next_unique +=1\n",
    "        else:\n",
    "            current +=1\n",
    "            arr[current]=arr[next_unique]\n",
    "            next_unique +=1\n",
    "    return arr[:current+1]\n",
    "arr = [1,1,2,2,2,3,3,4,4,4,5,5]\n",
    "output=remove_duplicates(arr)\n",
    "print(output)\n",
    "        "
   ]
  },
  {
   "cell_type": "code",
   "execution_count": null,
   "id": "63640815-2edb-4687-aa80-cda6bba7b212",
   "metadata": {},
   "outputs": [],
   "source": []
  },
  {
   "cell_type": "code",
   "execution_count": null,
   "id": "fe18f973-d00b-4c21-a5a8-746a199ad854",
   "metadata": {},
   "outputs": [],
   "source": []
  }
 ],
 "metadata": {
  "kernelspec": {
   "display_name": "Python 3 (ipykernel)",
   "language": "python",
   "name": "python3"
  },
  "language_info": {
   "codemirror_mode": {
    "name": "ipython",
    "version": 3
   },
   "file_extension": ".py",
   "mimetype": "text/x-python",
   "name": "python",
   "nbconvert_exporter": "python",
   "pygments_lexer": "ipython3",
   "version": "3.11.4"
  }
 },
 "nbformat": 4,
 "nbformat_minor": 5
}
